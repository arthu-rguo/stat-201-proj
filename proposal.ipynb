{
 "cells": [
  {
   "cell_type": "markdown",
   "id": "d77daf7e-9dfe-4564-a8fd-e7b70e0b8e23",
   "metadata": {},
   "source": [
    "## Introduction\n",
    "\n",
    "TBA"
   ]
  },
  {
   "cell_type": "markdown",
   "id": "bf106faf-2cf3-4baf-a3cb-150c21d65189",
   "metadata": {},
   "source": [
    "## Preliminary Results"
   ]
  },
  {
   "cell_type": "markdown",
   "id": "33be1daf-e6ff-498e-a1dc-475be4921126",
   "metadata": {},
   "source": [
    "### R Preamble"
   ]
  },
  {
   "cell_type": "code",
   "execution_count": 48,
   "id": "3c7dd3a1-7408-40d1-b062-18c7143ad04a",
   "metadata": {
    "tags": []
   },
   "outputs": [],
   "source": [
    "# Run this first.\n",
    "set.seed(5)\n",
    "\n",
    "library(tidyverse)\n",
    "library(tidymodels)\n",
    "library(RColorBrewer)"
   ]
  },
  {
   "cell_type": "markdown",
   "id": "52f840eb-b59c-4874-8510-700218054b61",
   "metadata": {},
   "source": [
    "### Loading and wrangling the dataset\n",
    "\n",
    "Note that the raw UBC and SFU datasets span different date ranges. However, our analysis will focus mainly on the `min_temp_c` variable, which might vary depending on the date. To prevent this from potentially skewing our results, we filter our wrangled dataset such that it spans the intersection of the UBC and SFU date ranges (from January 1 to June 30 1995)."
   ]
  },
  {
   "cell_type": "code",
   "execution_count": 53,
   "id": "6e4cdd14-22e4-4fca-8ec4-30d36cc8927c",
   "metadata": {
    "tags": []
   },
   "outputs": [
    {
     "data": {
      "text/html": [
       "<table class=\"dataframe\">\n",
       "<caption>A tibble: 6 × 3</caption>\n",
       "<thead>\n",
       "\t<tr><th scope=col>location</th><th scope=col>date_time</th><th scope=col>min_temp_c</th></tr>\n",
       "\t<tr><th scope=col>&lt;fct&gt;</th><th scope=col>&lt;date&gt;</th><th scope=col>&lt;dbl&gt;</th></tr>\n",
       "</thead>\n",
       "<tbody>\n",
       "\t<tr><td>UBC</td><td>1995-01-01</td><td>-3.5</td></tr>\n",
       "\t<tr><td>UBC</td><td>1995-01-02</td><td>-3.5</td></tr>\n",
       "\t<tr><td>UBC</td><td>1995-01-03</td><td>-4.5</td></tr>\n",
       "\t<tr><td>UBC</td><td>1995-01-04</td><td>-5.0</td></tr>\n",
       "\t<tr><td>UBC</td><td>1995-01-05</td><td>-4.0</td></tr>\n",
       "\t<tr><td>UBC</td><td>1995-01-06</td><td>-4.0</td></tr>\n",
       "</tbody>\n",
       "</table>\n"
      ],
      "text/latex": [
       "A tibble: 6 × 3\n",
       "\\begin{tabular}{lll}\n",
       " location & date\\_time & min\\_temp\\_c\\\\\n",
       " <fct> & <date> & <dbl>\\\\\n",
       "\\hline\n",
       "\t UBC & 1995-01-01 & -3.5\\\\\n",
       "\t UBC & 1995-01-02 & -3.5\\\\\n",
       "\t UBC & 1995-01-03 & -4.5\\\\\n",
       "\t UBC & 1995-01-04 & -5.0\\\\\n",
       "\t UBC & 1995-01-05 & -4.0\\\\\n",
       "\t UBC & 1995-01-06 & -4.0\\\\\n",
       "\\end{tabular}\n"
      ],
      "text/markdown": [
       "\n",
       "A tibble: 6 × 3\n",
       "\n",
       "| location &lt;fct&gt; | date_time &lt;date&gt; | min_temp_c &lt;dbl&gt; |\n",
       "|---|---|---|\n",
       "| UBC | 1995-01-01 | -3.5 |\n",
       "| UBC | 1995-01-02 | -3.5 |\n",
       "| UBC | 1995-01-03 | -4.5 |\n",
       "| UBC | 1995-01-04 | -5.0 |\n",
       "| UBC | 1995-01-05 | -4.0 |\n",
       "| UBC | 1995-01-06 | -4.0 |\n",
       "\n"
      ],
      "text/plain": [
       "  location date_time  min_temp_c\n",
       "1 UBC      1995-01-01 -3.5      \n",
       "2 UBC      1995-01-02 -3.5      \n",
       "3 UBC      1995-01-03 -4.5      \n",
       "4 UBC      1995-01-04 -5.0      \n",
       "5 UBC      1995-01-05 -4.0      \n",
       "6 UBC      1995-01-06 -4.0      "
      ]
     },
     "metadata": {},
     "output_type": "display_data"
    },
    {
     "data": {
      "text/html": [
       "<table class=\"dataframe\">\n",
       "<caption>A tibble: 6 × 3</caption>\n",
       "<thead>\n",
       "\t<tr><th scope=col>location</th><th scope=col>date_time</th><th scope=col>min_temp_c</th></tr>\n",
       "\t<tr><th scope=col>&lt;fct&gt;</th><th scope=col>&lt;date&gt;</th><th scope=col>&lt;dbl&gt;</th></tr>\n",
       "</thead>\n",
       "<tbody>\n",
       "\t<tr><td>SFU</td><td>1995-06-25</td><td>12</td></tr>\n",
       "\t<tr><td>SFU</td><td>1995-06-26</td><td>12</td></tr>\n",
       "\t<tr><td>SFU</td><td>1995-06-27</td><td>16</td></tr>\n",
       "\t<tr><td>SFU</td><td>1995-06-28</td><td>19</td></tr>\n",
       "\t<tr><td>SFU</td><td>1995-06-29</td><td>20</td></tr>\n",
       "\t<tr><td>SFU</td><td>1995-06-30</td><td>21</td></tr>\n",
       "</tbody>\n",
       "</table>\n"
      ],
      "text/latex": [
       "A tibble: 6 × 3\n",
       "\\begin{tabular}{lll}\n",
       " location & date\\_time & min\\_temp\\_c\\\\\n",
       " <fct> & <date> & <dbl>\\\\\n",
       "\\hline\n",
       "\t SFU & 1995-06-25 & 12\\\\\n",
       "\t SFU & 1995-06-26 & 12\\\\\n",
       "\t SFU & 1995-06-27 & 16\\\\\n",
       "\t SFU & 1995-06-28 & 19\\\\\n",
       "\t SFU & 1995-06-29 & 20\\\\\n",
       "\t SFU & 1995-06-30 & 21\\\\\n",
       "\\end{tabular}\n"
      ],
      "text/markdown": [
       "\n",
       "A tibble: 6 × 3\n",
       "\n",
       "| location &lt;fct&gt; | date_time &lt;date&gt; | min_temp_c &lt;dbl&gt; |\n",
       "|---|---|---|\n",
       "| SFU | 1995-06-25 | 12 |\n",
       "| SFU | 1995-06-26 | 12 |\n",
       "| SFU | 1995-06-27 | 16 |\n",
       "| SFU | 1995-06-28 | 19 |\n",
       "| SFU | 1995-06-29 | 20 |\n",
       "| SFU | 1995-06-30 | 21 |\n",
       "\n"
      ],
      "text/plain": [
       "  location date_time  min_temp_c\n",
       "1 SFU      1995-06-25 12        \n",
       "2 SFU      1995-06-26 12        \n",
       "3 SFU      1995-06-27 16        \n",
       "4 SFU      1995-06-28 19        \n",
       "5 SFU      1995-06-29 20        \n",
       "6 SFU      1995-06-30 21        "
      ]
     },
     "metadata": {},
     "output_type": "display_data"
    }
   ],
   "source": [
    "# Load and label the raw datasets for UBC and SFU, respectively.\n",
    "ubc_raw <- read_csv(\"./ubc.csv\", show_col_types = FALSE) |>\n",
    "    mutate(location = as.factor(\"UBC\"))\n",
    "\n",
    "sfu_raw <- read_csv(\"./sfu.csv\", show_col_types = FALSE) |>\n",
    "    mutate(location = as.factor(\"SFU\"))\n",
    "\n",
    "# Join the datasets, select the relevant variables, and tidy the data.\n",
    "ubc_sfu_raw <- bind_rows(ubc_raw, sfu_raw) |>\n",
    "    rename(date_time = \"Date/Time\", min_temp_c = \"Min Temp (°C)\") |>\n",
    "    select(location, date_time, min_temp_c) |>\n",
    "    filter(!is.na(min_temp_c))\n",
    "\n",
    "# Find the intersection of the date ranges and filter the dataset.\n",
    "date_range <- ubc_sfu_raw |>\n",
    "    group_by(location) |>\n",
    "    summarize(min = min(date_time), max = max(date_time)) |>\n",
    "    ungroup() |>\n",
    "    summarize(min = max(min), max = min(max))\n",
    "\n",
    "ubc_sfu_data <- ubc_sfu_raw |>\n",
    "    filter(between(date_time, date_range$min, date_range$max))\n",
    "\n",
    "# Preview the dataset.\n",
    "head(ubc_sfu_data)\n",
    "tail(ubc_sfu_data)"
   ]
  },
  {
   "cell_type": "code",
   "execution_count": null,
   "id": "254f4015-bfc3-4779-a735-255ffa758fe4",
   "metadata": {},
   "outputs": [],
   "source": []
  },
  {
   "cell_type": "code",
   "execution_count": null,
   "id": "1daf4503-0454-4e3d-82a8-7e8dd124f985",
   "metadata": {},
   "outputs": [],
   "source": []
  }
 ],
 "metadata": {
  "kernelspec": {
   "display_name": "R",
   "language": "R",
   "name": "ir"
  },
  "language_info": {
   "codemirror_mode": "r",
   "file_extension": ".r",
   "mimetype": "text/x-r-source",
   "name": "R",
   "pygments_lexer": "r",
   "version": "4.2.3"
  }
 },
 "nbformat": 4,
 "nbformat_minor": 5
}
